{
 "cells": [
  {
   "cell_type": "markdown",
   "metadata": {},
   "source": [
    "# Using the Cost-of-Capital-Calculator (CCC) with an alternative baseline\n",
    "\n",
    "This notebook provides an illustration of using the Cost-of-Capital-Calculator (CCC) with an alternative baseline.  In particular, it will simulate and compare results using a current law baseline and a current policy baseline (i.e., TCJA permanence).\n",
    "\n",
    "To run this notebook on your machine, you will need to follow the instructions to install CCC as described in the CCC README [here](https://github.com/PSLmodels/Cost-of-Capital-Calculator).  In particular, you need to:\n",
    "\n",
    "* Install the [Anaconda distribution](https://www.anaconda.com/distribution/) of Python\n",
    "* Install the CCC package by typing `conda install -c conda-forge ccc` (or `pip install cost-of-captial-calculator`) in the command prompt.\n",
    "\n",
    "Once you follow the above, you will be ready to work with this Jupyter Notebook.\n",
    "\n",
    "## First things first, import necessary packages"
   ]
  },
  {
   "cell_type": "code",
   "execution_count": 1,
   "metadata": {},
   "outputs": [
    {
     "name": "stdout",
     "output_type": "stream",
     "text": [
      "Requirement already satisfied: cost-of-capital-calculator in /Users/jason.debacker/anaconda3/envs/ccc-dev/lib/python3.12/site-packages (1.5.2)\n",
      "Requirement already satisfied: taxcalc in /Users/jason.debacker/anaconda3/envs/ccc-dev/lib/python3.12/site-packages (from cost-of-capital-calculator) (4.4.0)\n",
      "Requirement already satisfied: pandas in /Users/jason.debacker/anaconda3/envs/ccc-dev/lib/python3.12/site-packages (from cost-of-capital-calculator) (2.2.2)\n",
      "Requirement already satisfied: bokeh in /Users/jason.debacker/anaconda3/envs/ccc-dev/lib/python3.12/site-packages (from cost-of-capital-calculator) (3.3.4)\n",
      "Requirement already satisfied: numpy in /Users/jason.debacker/anaconda3/envs/ccc-dev/lib/python3.12/site-packages (from cost-of-capital-calculator) (1.26.4)\n",
      "Requirement already satisfied: paramtools in /Users/jason.debacker/anaconda3/envs/ccc-dev/lib/python3.12/site-packages (from cost-of-capital-calculator) (0.19.0)\n",
      "Requirement already satisfied: Jinja2>=2.9 in /Users/jason.debacker/anaconda3/envs/ccc-dev/lib/python3.12/site-packages (from bokeh->cost-of-capital-calculator) (3.1.4)\n",
      "Requirement already satisfied: contourpy>=1 in /Users/jason.debacker/anaconda3/envs/ccc-dev/lib/python3.12/site-packages (from bokeh->cost-of-capital-calculator) (1.2.0)\n",
      "Requirement already satisfied: packaging>=16.8 in /Users/jason.debacker/anaconda3/envs/ccc-dev/lib/python3.12/site-packages (from bokeh->cost-of-capital-calculator) (24.1)\n",
      "Requirement already satisfied: pillow>=7.1.0 in /Users/jason.debacker/anaconda3/envs/ccc-dev/lib/python3.12/site-packages (from bokeh->cost-of-capital-calculator) (10.4.0)\n",
      "Requirement already satisfied: PyYAML>=3.10 in /Users/jason.debacker/anaconda3/envs/ccc-dev/lib/python3.12/site-packages (from bokeh->cost-of-capital-calculator) (6.0.1)\n",
      "Requirement already satisfied: tornado>=5.1 in /Users/jason.debacker/anaconda3/envs/ccc-dev/lib/python3.12/site-packages (from bokeh->cost-of-capital-calculator) (6.4.1)\n",
      "Requirement already satisfied: xyzservices>=2021.09.1 in /Users/jason.debacker/anaconda3/envs/ccc-dev/lib/python3.12/site-packages (from bokeh->cost-of-capital-calculator) (2022.9.0)\n",
      "Requirement already satisfied: python-dateutil>=2.8.2 in /Users/jason.debacker/anaconda3/envs/ccc-dev/lib/python3.12/site-packages (from pandas->cost-of-capital-calculator) (2.9.0.post0)\n",
      "Requirement already satisfied: pytz>=2020.1 in /Users/jason.debacker/anaconda3/envs/ccc-dev/lib/python3.12/site-packages (from pandas->cost-of-capital-calculator) (2024.1)\n",
      "Requirement already satisfied: tzdata>=2022.7 in /Users/jason.debacker/anaconda3/envs/ccc-dev/lib/python3.12/site-packages (from pandas->cost-of-capital-calculator) (2023.3)\n",
      "Requirement already satisfied: marshmallow>=3.0.0 in /Users/jason.debacker/anaconda3/envs/ccc-dev/lib/python3.12/site-packages (from paramtools->cost-of-capital-calculator) (3.19.0)\n",
      "Requirement already satisfied: fsspec in /Users/jason.debacker/anaconda3/envs/ccc-dev/lib/python3.12/site-packages (from paramtools->cost-of-capital-calculator) (2024.6.1)\n",
      "Requirement already satisfied: sortedcontainers in /Users/jason.debacker/anaconda3/envs/ccc-dev/lib/python3.12/site-packages (from paramtools->cost-of-capital-calculator) (2.4.0)\n",
      "Requirement already satisfied: numba in /Users/jason.debacker/anaconda3/envs/ccc-dev/lib/python3.12/site-packages (from taxcalc->cost-of-capital-calculator) (0.59.0)\n",
      "Requirement already satisfied: MarkupSafe>=2.0 in /Users/jason.debacker/anaconda3/envs/ccc-dev/lib/python3.12/site-packages (from Jinja2>=2.9->bokeh->cost-of-capital-calculator) (2.1.3)\n",
      "Requirement already satisfied: six>=1.5 in /Users/jason.debacker/anaconda3/envs/ccc-dev/lib/python3.12/site-packages (from python-dateutil>=2.8.2->pandas->cost-of-capital-calculator) (1.16.0)\n",
      "Requirement already satisfied: llvmlite<0.43,>=0.42.0dev0 in /Users/jason.debacker/anaconda3/envs/ccc-dev/lib/python3.12/site-packages (from numba->taxcalc->cost-of-capital-calculator) (0.42.0)\n"
     ]
    }
   ],
   "source": [
    "# To install ccc package (if not already):\n",
    "import sys\n",
    "if 'ccc' not in sys.modules:\n",
    "    !pip install cost-of-capital-calculator"
   ]
  },
  {
   "cell_type": "code",
   "execution_count": 2,
   "metadata": {},
   "outputs": [
    {
     "data": {
      "text/html": [
       "    <style>\n",
       "        .bk-notebook-logo {\n",
       "            display: block;\n",
       "            width: 20px;\n",
       "            height: 20px;\n",
       "            background-image: url(data:image/png;base64,iVBORw0KGgoAAAANSUhEUgAAABQAAAAUCAYAAACNiR0NAAAABHNCSVQICAgIfAhkiAAAAAlwSFlzAAALEgAACxIB0t1+/AAAABx0RVh0U29mdHdhcmUAQWRvYmUgRmlyZXdvcmtzIENTNui8sowAAAOkSURBVDiNjZRtaJVlGMd/1/08zzln5zjP1LWcU9N0NkN8m2CYjpgQYQXqSs0I84OLIC0hkEKoPtiH3gmKoiJDU7QpLgoLjLIQCpEsNJ1vqUOdO7ppbuec5+V+rj4ctwzd8IIbbi6u+8f1539dt3A78eXC7QizUF7gyV1fD1Yqg4JWz84yffhm0qkFqBogB9rM8tZdtwVsPUhWhGcFJngGeWrPzHm5oaMmkfEg1usvLFyc8jLRqDOMru7AyC8saQr7GG7f5fvDeH7Ej8CM66nIF+8yngt6HWaKh7k49Soy9nXurCi1o3qUbS3zWfrYeQDTB/Qj6kX6Ybhw4B+bOYoLKCC9H3Nu/leUTZ1JdRWkkn2ldcCamzrcf47KKXdAJllSlxAOkRgyHsGC/zRday5Qld9DyoM4/q/rUoy/CXh3jzOu3bHUVZeU+DEn8FInkPBFlu3+nW3Nw0mk6vCDiWg8CeJaxEwuHS3+z5RgY+YBR6V1Z1nxSOfoaPa4LASWxxdNp+VWTk7+4vzaou8v8PN+xo+KY2xsw6une2frhw05CTYOmQvsEhjhWjn0bmXPjpE1+kplmmkP3suftwTubK9Vq22qKmrBhpY4jvd5afdRA3wGjFAgcnTK2s4hY0/GPNIb0nErGMCRxWOOX64Z8RAC4oCXdklmEvcL8o0BfkNK4lUg9HTl+oPlQxdNo3Mg4Nv175e/1LDGzZen30MEjRUtmXSfiTVu1kK8W4txyV6BMKlbgk3lMwYCiusNy9fVfvvwMxv8Ynl6vxoByANLTWplvuj/nF9m2+PDtt1eiHPBr1oIfhCChQMBw6Aw0UulqTKZdfVvfG7VcfIqLG9bcldL/+pdWTLxLUy8Qq38heUIjh4XlzZxzQm19lLFlr8vdQ97rjZVOLf8nclzckbcD4wxXMidpX30sFd37Fv/GtwwhzhxGVAprjbg0gCAEeIgwCZyTV2Z1REEW8O4py0wsjeloKoMr6iCY6dP92H6Vw/oTyICIthibxjm/DfN9lVz8IqtqKYLUXfoKVMVQVVJOElGjrnnUt9T9wbgp8AyYKaGlqingHZU/uG2NTZSVqwHQTWkx9hxjkpWDaCg6Ckj5qebgBVbT3V3NNXMSiWSDdGV3hrtzla7J+duwPOToIg42ChPQOQjspnSlp1V+Gjdged7+8UN5CRAV7a5EdFNwCjEaBR27b3W890TE7g24NAP/mMDXRWrGoFPQI9ls/MWO2dWFAar/xcOIImbbpA3zgAAAABJRU5ErkJggg==);\n",
       "        }\n",
       "    </style>\n",
       "    <div>\n",
       "        <a href=\"https://bokeh.org\" target=\"_blank\" class=\"bk-notebook-logo\"></a>\n",
       "        <span id=\"c130108d-fb93-4e25-ac18-a00ccd06668b\">Loading BokehJS ...</span>\n",
       "    </div>\n"
      ]
     },
     "metadata": {},
     "output_type": "display_data"
    },
    {
     "data": {
      "application/javascript": "(function(root) {\n  function now() {\n    return new Date();\n  }\n\n  const force = true;\n\n  if (typeof root._bokeh_onload_callbacks === \"undefined\" || force === true) {\n    root._bokeh_onload_callbacks = [];\n    root._bokeh_is_loading = undefined;\n  }\n\nconst JS_MIME_TYPE = 'application/javascript';\n  const HTML_MIME_TYPE = 'text/html';\n  const EXEC_MIME_TYPE = 'application/vnd.bokehjs_exec.v0+json';\n  const CLASS_NAME = 'output_bokeh rendered_html';\n\n  /**\n   * Render data to the DOM node\n   */\n  function render(props, node) {\n    const script = document.createElement(\"script\");\n    node.appendChild(script);\n  }\n\n  /**\n   * Handle when an output is cleared or removed\n   */\n  function handleClearOutput(event, handle) {\n    function drop(id) {\n      const view = Bokeh.index.get_by_id(id)\n      if (view != null) {\n        view.model.document.clear()\n        Bokeh.index.delete(view)\n      }\n    }\n\n    const cell = handle.cell;\n\n    const id = cell.output_area._bokeh_element_id;\n    const server_id = cell.output_area._bokeh_server_id;\n\n    // Clean up Bokeh references\n    if (id != null) {\n      drop(id)\n    }\n\n    if (server_id !== undefined) {\n      // Clean up Bokeh references\n      const cmd_clean = \"from bokeh.io.state import curstate; print(curstate().uuid_to_server['\" + server_id + \"'].get_sessions()[0].document.roots[0]._id)\";\n      cell.notebook.kernel.execute(cmd_clean, {\n        iopub: {\n          output: function(msg) {\n            const id = msg.content.text.trim()\n            drop(id)\n          }\n        }\n      });\n      // Destroy server and session\n      const cmd_destroy = \"import bokeh.io.notebook as ion; ion.destroy_server('\" + server_id + \"')\";\n      cell.notebook.kernel.execute(cmd_destroy);\n    }\n  }\n\n  /**\n   * Handle when a new output is added\n   */\n  function handleAddOutput(event, handle) {\n    const output_area = handle.output_area;\n    const output = handle.output;\n\n    // limit handleAddOutput to display_data with EXEC_MIME_TYPE content only\n    if ((output.output_type != \"display_data\") || (!Object.prototype.hasOwnProperty.call(output.data, EXEC_MIME_TYPE))) {\n      return\n    }\n\n    const toinsert = output_area.element.find(\".\" + CLASS_NAME.split(' ')[0]);\n\n    if (output.metadata[EXEC_MIME_TYPE][\"id\"] !== undefined) {\n      toinsert[toinsert.length - 1].firstChild.textContent = output.data[JS_MIME_TYPE];\n      // store reference to embed id on output_area\n      output_area._bokeh_element_id = output.metadata[EXEC_MIME_TYPE][\"id\"];\n    }\n    if (output.metadata[EXEC_MIME_TYPE][\"server_id\"] !== undefined) {\n      const bk_div = document.createElement(\"div\");\n      bk_div.innerHTML = output.data[HTML_MIME_TYPE];\n      const script_attrs = bk_div.children[0].attributes;\n      for (let i = 0; i < script_attrs.length; i++) {\n        toinsert[toinsert.length - 1].firstChild.setAttribute(script_attrs[i].name, script_attrs[i].value);\n        toinsert[toinsert.length - 1].firstChild.textContent = bk_div.children[0].textContent\n      }\n      // store reference to server id on output_area\n      output_area._bokeh_server_id = output.metadata[EXEC_MIME_TYPE][\"server_id\"];\n    }\n  }\n\n  function register_renderer(events, OutputArea) {\n\n    function append_mime(data, metadata, element) {\n      // create a DOM node to render to\n      const toinsert = this.create_output_subarea(\n        metadata,\n        CLASS_NAME,\n        EXEC_MIME_TYPE\n      );\n      this.keyboard_manager.register_events(toinsert);\n      // Render to node\n      const props = {data: data, metadata: metadata[EXEC_MIME_TYPE]};\n      render(props, toinsert[toinsert.length - 1]);\n      element.append(toinsert);\n      return toinsert\n    }\n\n    /* Handle when an output is cleared or removed */\n    events.on('clear_output.CodeCell', handleClearOutput);\n    events.on('delete.Cell', handleClearOutput);\n\n    /* Handle when a new output is added */\n    events.on('output_added.OutputArea', handleAddOutput);\n\n    /**\n     * Register the mime type and append_mime function with output_area\n     */\n    OutputArea.prototype.register_mime_type(EXEC_MIME_TYPE, append_mime, {\n      /* Is output safe? */\n      safe: true,\n      /* Index of renderer in `output_area.display_order` */\n      index: 0\n    });\n  }\n\n  // register the mime type if in Jupyter Notebook environment and previously unregistered\n  if (root.Jupyter !== undefined) {\n    const events = require('base/js/events');\n    const OutputArea = require('notebook/js/outputarea').OutputArea;\n\n    if (OutputArea.prototype.mime_types().indexOf(EXEC_MIME_TYPE) == -1) {\n      register_renderer(events, OutputArea);\n    }\n  }\n  if (typeof (root._bokeh_timeout) === \"undefined\" || force === true) {\n    root._bokeh_timeout = Date.now() + 5000;\n    root._bokeh_failed_load = false;\n  }\n\n  const NB_LOAD_WARNING = {'data': {'text/html':\n     \"<div style='background-color: #fdd'>\\n\"+\n     \"<p>\\n\"+\n     \"BokehJS does not appear to have successfully loaded. If loading BokehJS from CDN, this \\n\"+\n     \"may be due to a slow or bad network connection. Possible fixes:\\n\"+\n     \"</p>\\n\"+\n     \"<ul>\\n\"+\n     \"<li>re-rerun `output_notebook()` to attempt to load from CDN again, or</li>\\n\"+\n     \"<li>use INLINE resources instead, as so:</li>\\n\"+\n     \"</ul>\\n\"+\n     \"<code>\\n\"+\n     \"from bokeh.resources import INLINE\\n\"+\n     \"output_notebook(resources=INLINE)\\n\"+\n     \"</code>\\n\"+\n     \"</div>\"}};\n\n  function display_loaded() {\n    const el = document.getElementById(\"c130108d-fb93-4e25-ac18-a00ccd06668b\");\n    if (el != null) {\n      el.textContent = \"BokehJS is loading...\";\n    }\n    if (root.Bokeh !== undefined) {\n      if (el != null) {\n        el.textContent = \"BokehJS \" + root.Bokeh.version + \" successfully loaded.\";\n      }\n    } else if (Date.now() < root._bokeh_timeout) {\n      setTimeout(display_loaded, 100)\n    }\n  }\n\n  function run_callbacks() {\n    try {\n      root._bokeh_onload_callbacks.forEach(function(callback) {\n        if (callback != null)\n          callback();\n      });\n    } finally {\n      delete root._bokeh_onload_callbacks\n    }\n    console.debug(\"Bokeh: all callbacks have finished\");\n  }\n\n  function load_libs(css_urls, js_urls, callback) {\n    if (css_urls == null) css_urls = [];\n    if (js_urls == null) js_urls = [];\n\n    root._bokeh_onload_callbacks.push(callback);\n    if (root._bokeh_is_loading > 0) {\n      console.debug(\"Bokeh: BokehJS is being loaded, scheduling callback at\", now());\n      return null;\n    }\n    if (js_urls == null || js_urls.length === 0) {\n      run_callbacks();\n      return null;\n    }\n    console.debug(\"Bokeh: BokehJS not loaded, scheduling load and callback at\", now());\n    root._bokeh_is_loading = css_urls.length + js_urls.length;\n\n    function on_load() {\n      root._bokeh_is_loading--;\n      if (root._bokeh_is_loading === 0) {\n        console.debug(\"Bokeh: all BokehJS libraries/stylesheets loaded\");\n        run_callbacks()\n      }\n    }\n\n    function on_error(url) {\n      console.error(\"failed to load \" + url);\n    }\n\n    for (let i = 0; i < css_urls.length; i++) {\n      const url = css_urls[i];\n      const element = document.createElement(\"link\");\n      element.onload = on_load;\n      element.onerror = on_error.bind(null, url);\n      element.rel = \"stylesheet\";\n      element.type = \"text/css\";\n      element.href = url;\n      console.debug(\"Bokeh: injecting link tag for BokehJS stylesheet: \", url);\n      document.body.appendChild(element);\n    }\n\n    for (let i = 0; i < js_urls.length; i++) {\n      const url = js_urls[i];\n      const element = document.createElement('script');\n      element.onload = on_load;\n      element.onerror = on_error.bind(null, url);\n      element.async = false;\n      element.src = url;\n      console.debug(\"Bokeh: injecting script tag for BokehJS library: \", url);\n      document.head.appendChild(element);\n    }\n  };\n\n  function inject_raw_css(css) {\n    const element = document.createElement(\"style\");\n    element.appendChild(document.createTextNode(css));\n    document.body.appendChild(element);\n  }\n\n  const js_urls = [\"https://cdn.bokeh.org/bokeh/release/bokeh-3.3.4.min.js\", \"https://cdn.bokeh.org/bokeh/release/bokeh-gl-3.3.4.min.js\", \"https://cdn.bokeh.org/bokeh/release/bokeh-widgets-3.3.4.min.js\", \"https://cdn.bokeh.org/bokeh/release/bokeh-tables-3.3.4.min.js\", \"https://cdn.bokeh.org/bokeh/release/bokeh-mathjax-3.3.4.min.js\"];\n  const css_urls = [];\n\n  const inline_js = [    function(Bokeh) {\n      Bokeh.set_log_level(\"info\");\n    },\nfunction(Bokeh) {\n    }\n  ];\n\n  function run_inline_js() {\n    if (root.Bokeh !== undefined || force === true) {\n          for (let i = 0; i < inline_js.length; i++) {\n      inline_js[i].call(root, root.Bokeh);\n    }\nif (force === true) {\n        display_loaded();\n      }} else if (Date.now() < root._bokeh_timeout) {\n      setTimeout(run_inline_js, 100);\n    } else if (!root._bokeh_failed_load) {\n      console.log(\"Bokeh: BokehJS failed to load within specified timeout.\");\n      root._bokeh_failed_load = true;\n    } else if (force !== true) {\n      const cell = $(document.getElementById(\"c130108d-fb93-4e25-ac18-a00ccd06668b\")).parents('.cell').data().cell;\n      cell.output_area.append_execute_result(NB_LOAD_WARNING)\n    }\n  }\n\n  if (root._bokeh_is_loading === 0) {\n    console.debug(\"Bokeh: BokehJS loaded, going straight to plotting\");\n    run_inline_js();\n  } else {\n    load_libs(css_urls, js_urls, function() {\n      console.debug(\"Bokeh: BokehJS plotting callback run at\", now());\n      run_inline_js();\n    });\n  }\n}(window));",
      "application/vnd.bokehjs_load.v0+json": ""
     },
     "metadata": {},
     "output_type": "display_data"
    }
   ],
   "source": [
    "# import packages\n",
    "import pandas as pd\n",
    "import numpy as np\n",
    "import os\n",
    "from bokeh.plotting import figure, show\n",
    "from bokeh.io import output_notebook\n",
    "# import CCC classes that we'll work with\n",
    "from ccc.data import Assets\n",
    "from ccc.parameters import Specification, DepreciationParams\n",
    "from ccc.calculator import Calculator\n",
    "# to print bokeh plots inline\n",
    "output_notebook()"
   ]
  },
  {
   "cell_type": "markdown",
   "metadata": {},
   "source": [
    "## Create instance of the calculator class with a current law baseline"
   ]
  },
  {
   "cell_type": "code",
   "execution_count": 3,
   "metadata": {},
   "outputs": [],
   "source": [
    "# Create an instance of the Assets class\n",
    "assets = Assets()\n",
    "# Create an instance of the Specification class\n",
    "p = Specification(call_tc=False, year=2026)  # choose year after TCJA expires\n",
    "# Create an instance of the DepreciationParams class\n",
    "dp = DepreciationParams()\n",
    "# Create an instance of the Calculator class\n",
    "calc1 = Calculator(p, dp, assets)\n",
    "calc1.calc_all()"
   ]
  },
  {
   "cell_type": "markdown",
   "metadata": {},
   "source": [
    "## Create instance of the calculator class with a current policy baseline (i.e., TCJA permanence)"
   ]
  },
  {
   "cell_type": "code",
   "execution_count": 4,
   "metadata": {},
   "outputs": [],
   "source": [
    "# Create an instance of the Assets class\n",
    "assets = Assets()\n",
    "# Create an instance of the Specification class\n",
    "p2 = Specification(call_tc=False, year=2026)  # choose year after TCJA expires\n",
    "p2.update_specification(os.path.join(\"..\", \"..\", \"..\", \"..\", 'ccc', 'tcja_extension.json'))\n",
    "# Create an instance of the DepreciationParams class\n",
    "dp = DepreciationParams()\n",
    "# Create an instance of the Calculator class\n",
    "calc2 = Calculator(p2, dp, assets)\n",
    "calc2.calc_all()"
   ]
  },
  {
   "cell_type": "markdown",
   "metadata": {},
   "source": [
    "## Compare METRs under the two baselines\n",
    "\n",
    "Now with two `Calculator` objects named `calc1` and `calc2` (representing the current law baseline and current policy baseline), we can compare the two.\n",
    "\n",
    "We start with an overall summary table showing the marginal effective total tax rates (METTRs) for all investments, corporate investments, and pass-through investments under varying financing assumptions.  This is done through the `summary_table` function.  It takes a calculator object as an argument."
   ]
  },
  {
   "cell_type": "code",
   "execution_count": 5,
   "metadata": {},
   "outputs": [
    {
     "data": {
      "text/html": [
       "<div>\n",
       "<style scoped>\n",
       "    .dataframe tbody tr th:only-of-type {\n",
       "        vertical-align: middle;\n",
       "    }\n",
       "\n",
       "    .dataframe tbody tr th {\n",
       "        vertical-align: top;\n",
       "    }\n",
       "\n",
       "    .dataframe thead th {\n",
       "        text-align: right;\n",
       "    }\n",
       "</style>\n",
       "<table border=\"1\" class=\"dataframe\">\n",
       "  <thead>\n",
       "    <tr style=\"text-align: right;\">\n",
       "      <th></th>\n",
       "      <th></th>\n",
       "      <th>Marginal Effective Total Tax Rate Under Baseline Policy</th>\n",
       "      <th>Marginal Effective Total Tax Rate Under Reform Policy</th>\n",
       "      <th>Change from Baseline (pp)</th>\n",
       "    </tr>\n",
       "  </thead>\n",
       "  <tbody>\n",
       "    <tr>\n",
       "      <th>0</th>\n",
       "      <td>Overall</td>\n",
       "      <td>25.390702</td>\n",
       "      <td>20.332555</td>\n",
       "      <td>-5.058147</td>\n",
       "    </tr>\n",
       "    <tr>\n",
       "      <th>1</th>\n",
       "      <td>Corporations</td>\n",
       "      <td>22.104009</td>\n",
       "      <td>21.224748</td>\n",
       "      <td>-0.879261</td>\n",
       "    </tr>\n",
       "    <tr>\n",
       "      <th>2</th>\n",
       "      <td>Equity Financed</td>\n",
       "      <td>24.337664</td>\n",
       "      <td>23.483192</td>\n",
       "      <td>-0.854472</td>\n",
       "    </tr>\n",
       "    <tr>\n",
       "      <th>3</th>\n",
       "      <td>Debt Financed</td>\n",
       "      <td>14.162442</td>\n",
       "      <td>13.163931</td>\n",
       "      <td>-0.998511</td>\n",
       "    </tr>\n",
       "    <tr>\n",
       "      <th>4</th>\n",
       "      <td>Pass-Through Entities</td>\n",
       "      <td>30.434236</td>\n",
       "      <td>20.914354</td>\n",
       "      <td>-9.519882</td>\n",
       "    </tr>\n",
       "    <tr>\n",
       "      <th>5</th>\n",
       "      <td>Equity Financed</td>\n",
       "      <td>32.856851</td>\n",
       "      <td>18.533700</td>\n",
       "      <td>-14.323151</td>\n",
       "    </tr>\n",
       "    <tr>\n",
       "      <th>6</th>\n",
       "      <td>Debt Financed</td>\n",
       "      <td>18.024908</td>\n",
       "      <td>29.865425</td>\n",
       "      <td>11.840518</td>\n",
       "    </tr>\n",
       "  </tbody>\n",
       "</table>\n",
       "</div>"
      ],
      "text/plain": [
       "                          \\\n",
       "0                Overall   \n",
       "1           Corporations   \n",
       "2        Equity Financed   \n",
       "3          Debt Financed   \n",
       "4  Pass-Through Entities   \n",
       "5        Equity Financed   \n",
       "6          Debt Financed   \n",
       "\n",
       "   Marginal Effective Total Tax Rate Under Baseline Policy  \\\n",
       "0                                          25.390702         \n",
       "1                                          22.104009         \n",
       "2                                          24.337664         \n",
       "3                                          14.162442         \n",
       "4                                          30.434236         \n",
       "5                                          32.856851         \n",
       "6                                          18.024908         \n",
       "\n",
       "   Marginal Effective Total Tax Rate Under Reform Policy  \\\n",
       "0                                          20.332555       \n",
       "1                                          21.224748       \n",
       "2                                          23.483192       \n",
       "3                                          13.163931       \n",
       "4                                          20.914354       \n",
       "5                                          18.533700       \n",
       "6                                          29.865425       \n",
       "\n",
       "   Change from Baseline (pp)  \n",
       "0                  -5.058147  \n",
       "1                  -0.879261  \n",
       "2                  -0.854472  \n",
       "3                  -0.998511  \n",
       "4                  -9.519882  \n",
       "5                 -14.323151  \n",
       "6                  11.840518  "
      ]
     },
     "execution_count": 5,
     "metadata": {},
     "output_type": "execute_result"
    }
   ],
   "source": [
    "# Look at differences in METTRs between the two policies\n",
    "calc1.summary_table(calc2) # calc1 is the current law baseline, calc2 the current policy baseline\n",
    "# NOTE: in the table below, the current law baseline will be referred to as the \"baseline\"\n",
    "# and the current policy baseline will be referred to as the \"reform\""
   ]
  },
  {
   "cell_type": "code",
   "execution_count": 6,
   "metadata": {},
   "outputs": [
    {
     "data": {
      "text/plain": [
       "array([0.3563643])"
      ]
     },
     "execution_count": 6,
     "metadata": {},
     "output_type": "execute_result"
    }
   ],
   "source": [
    "p.tau_pt"
   ]
  },
  {
   "cell_type": "code",
   "execution_count": null,
   "metadata": {},
   "outputs": [],
   "source": []
  }
 ],
 "metadata": {
  "kernelspec": {
   "display_name": "ccc-dev",
   "language": "python",
   "name": "python3"
  },
  "language_info": {
   "codemirror_mode": {
    "name": "ipython",
    "version": 3
   },
   "file_extension": ".py",
   "mimetype": "text/x-python",
   "name": "python",
   "nbconvert_exporter": "python",
   "pygments_lexer": "ipython3",
   "version": "3.12.5"
  }
 },
 "nbformat": 4,
 "nbformat_minor": 4
}
